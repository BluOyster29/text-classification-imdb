{
 "cells": [
  {
   "cell_type": "code",
   "execution_count": 1,
   "metadata": {},
   "outputs": [],
   "source": [
    "from tqdm import tqdm"
   ]
  },
  {
   "cell_type": "code",
   "execution_count": 1,
   "metadata": {},
   "outputs": [],
   "source": [
    "from load_data import main\n",
    "from preprocess import preprocess\n",
    "import pandas as pd"
   ]
  },
  {
   "cell_type": "code",
   "execution_count": 17,
   "metadata": {},
   "outputs": [],
   "source": [
    "class Args:\n",
    "    def __init__(self, training_path, testing_path, n, split):\n",
    "        self.training_path = training_path\n",
    "        self.testing_path = testing_path\n",
    "        self.n = n\n",
    "        self.split = split"
   ]
  },
  {
   "cell_type": "code",
   "execution_count": 24,
   "metadata": {},
   "outputs": [],
   "source": [
    "args = Args('data/aclImdb/train/', 'data/aclImdb/train/', 5000, 0.75)\n",
    "\n",
    "#df.to_csv('post_processed_training_pos.csv', index=False)"
   ]
  },
  {
   "cell_type": "code",
   "execution_count": 21,
   "metadata": {},
   "outputs": [
    {
     "name": "stderr",
     "output_type": "stream",
     "text": [
      "100%|██████████| 3750/3750 [01:43<00:00, 36.29it/s]\n",
      "100%|██████████| 3750/3750 [01:13<00:00, 51.08it/s] \n",
      "100%|██████████| 1250/1250 [00:00<00:00, 24090.24it/s]\n",
      "100%|██████████| 1250/1250 [00:00<00:00, 25786.09it/s]\n",
      "100%|██████████| 3750/3750 [00:09<00:00, 376.39it/s]\n",
      "100%|██████████| 3750/3750 [00:07<00:00, 472.42it/s]\n",
      "100%|██████████| 3750/3750 [00:01<00:00, 2084.48it/s]\n"
     ]
    }
   ],
   "source": [
    "training_pos, training_neg, testing_pos,testing_neg = main(args)\n",
    "training_pos_preprocessed = preprocess(training_pos)"
   ]
  },
  {
   "cell_type": "code",
   "execution_count": 28,
   "metadata": {},
   "outputs": [
    {
     "name": "stderr",
     "output_type": "stream",
     "text": [
      "100%|██████████| 3750/3750 [00:10<00:00, 371.40it/s]\n",
      "100%|██████████| 3750/3750 [00:05<00:00, 678.32it/s]\n",
      "100%|██████████| 3750/3750 [00:01<00:00, 2024.80it/s]\n"
     ]
    }
   ],
   "source": [
    "training_neg_preprocessed = preprocess(training_neg)"
   ]
  },
  {
   "cell_type": "code",
   "execution_count": 34,
   "metadata": {},
   "outputs": [],
   "source": [
    "training_df_neg = pd.DataFrame(data={'review' : [' '.join(i) for i in training_neg_preprocessed], 'pos_neg' : [0 for i in range(len(training_neg_preprocessed))]})\n",
    "training_df_pos = pd.DataFrame(data={'review' : [' '.join(i) for i in training_pos_preprocessed], 'pos_neg' : [1for i in range(len(training_pos_preprocessed))]})\n",
    "\n",
    "training_data = training_df_pos.append(training_df_neg)"
   ]
  },
  {
   "cell_type": "code",
   "execution_count": 38,
   "metadata": {},
   "outputs": [],
   "source": [
    "training_data.to_csv('training.csv', index=False)"
   ]
  },
  {
   "cell_type": "code",
   "execution_count": 41,
   "metadata": {},
   "outputs": [],
   "source": [
    "x = [i.split(' ') for i in training_data['review'].tolist()]"
   ]
  },
  {
   "cell_type": "code",
   "execution_count": 43,
   "metadata": {},
   "outputs": [],
   "source": [
    "y = training_data['pos_neg'].tolist()"
   ]
  },
  {
   "cell_type": "code",
   "execution_count": 5,
   "metadata": {},
   "outputs": [],
   "source": [
    "from build_features import build_features"
   ]
  },
  {
   "cell_type": "code",
   "execution_count": 6,
   "metadata": {},
   "outputs": [
    {
     "name": "stdout",
     "output_type": "stream",
     "text": [
      "Minimum count: 5\n",
      "Maximum count: 15050\n"
     ]
    }
   ],
   "source": [
    "train_pos_features, features = build_features(train_pos, 1)"
   ]
  },
  {
   "cell_type": "code",
   "execution_count": 7,
   "metadata": {},
   "outputs": [],
   "source": [
    "from build_features import build_doc_vectors"
   ]
  },
  {
   "cell_type": "code",
   "execution_count": 8,
   "metadata": {},
   "outputs": [],
   "source": [
    "vecs = build_doc_vectors(train_pos_features, features)"
   ]
  },
  {
   "cell_type": "code",
   "execution_count": 11,
   "metadata": {},
   "outputs": [],
   "source": [
    "from sklearn.linear_model import LogisticRegression"
   ]
  },
  {
   "cell_type": "code",
   "execution_count": 12,
   "metadata": {},
   "outputs": [],
   "source": [
    "a = LogisticRegression(vecs)"
   ]
  },
  {
   "cell_type": "code",
   "execution_count": 13,
   "metadata": {},
   "outputs": [
    {
     "data": {
      "text/plain": [
       "LogisticRegression(C=1.0, class_weight=None, dual=False, fit_intercept=True,\n",
       "                   intercept_scaling=1, l1_ratio=None, max_iter=100,\n",
       "                   multi_class='auto', n_jobs=None,\n",
       "                   penalty=[array([1., 1., 1., ..., 0., 0., 0.]),\n",
       "                            array([0., 0., 0., ..., 0., 0., 0.]),\n",
       "                            array([0., 1., 0., ..., 0., 0., 0.]),\n",
       "                            array([0., 0., 0., ..., 0., 0., 0.]),\n",
       "                            array([0., 0., 1., ..., 0., 0., 0.]),\n",
       "                            array([0., 0., 0., ..., 0., 0., 0.]),\n",
       "                            arra...\n",
       "                            array([0., 0., 0., ..., 0., 0., 0.]),\n",
       "                            array([0., 0., 0., ..., 0., 0., 0.]),\n",
       "                            array([0., 0., 0., ..., 0., 0., 0.]),\n",
       "                            array([0., 0., 3., ..., 0., 0., 0.]),\n",
       "                            array([0., 0., 0., ..., 0., 0., 0.]),\n",
       "                            array([0., 0., 0., ..., 0., 0., 0.]),\n",
       "                            array([0., 3., 0., ..., 0., 0., 0.]),\n",
       "                            array([0., 0., 0., ..., 0., 0., 0.]),\n",
       "                            array([0., 0., 0., ..., 0., 0., 0.]), ...],\n",
       "                   random_state=None, solver='lbfgs', tol=0.0001, verbose=0,\n",
       "                   warm_start=False)"
      ]
     },
     "execution_count": 13,
     "metadata": {},
     "output_type": "execute_result"
    }
   ],
   "source": [
    "a"
   ]
  },
  {
   "cell_type": "code",
   "execution_count": null,
   "metadata": {},
   "outputs": [],
   "source": []
  }
 ],
 "metadata": {
  "kernelspec": {
   "display_name": "Python 3",
   "language": "python",
   "name": "python3"
  },
  "language_info": {
   "codemirror_mode": {
    "name": "ipython",
    "version": 3
   },
   "file_extension": ".py",
   "mimetype": "text/x-python",
   "name": "python",
   "nbconvert_exporter": "python",
   "pygments_lexer": "ipython3",
   "version": "3.6.10"
  },
  "toc": {
   "base_numbering": 1,
   "nav_menu": {},
   "number_sections": true,
   "sideBar": true,
   "skip_h1_title": false,
   "title_cell": "Table of Contents",
   "title_sidebar": "Contents",
   "toc_cell": false,
   "toc_position": {},
   "toc_section_display": true,
   "toc_window_display": false
  }
 },
 "nbformat": 4,
 "nbformat_minor": 4
}
